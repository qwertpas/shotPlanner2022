{
 "cells": [
  {
   "cell_type": "code",
   "execution_count": 2,
   "metadata": {},
   "outputs": [],
   "source": [
    "import numpy as np\n",
    "from matplotlib import pyplot as plt\n",
    "from scipy.optimize import fsolve"
   ]
  },
  {
   "cell_type": "code",
   "execution_count": 21,
   "metadata": {},
   "outputs": [],
   "source": [
    "def time_at_dist(x):\n",
    "    return 0.2 * x"
   ]
  },
  {
   "cell_type": "code",
   "execution_count": 22,
   "metadata": {},
   "outputs": [
    {
     "name": "stdout",
     "output_type": "stream",
     "text": [
      "x_opt: 2.520687484769015, theta: -81.95215375268849, error: -3.9968028886505635e-14\n"
     ]
    },
    {
     "data": {
      "text/plain": [
       "<matplotlib.collections.PathCollection at 0x13f9cd850>"
      ]
     },
     "execution_count": 22,
     "metadata": {},
     "output_type": "execute_result"
    },
    {
     "data": {
      "image/png": "[encoded data removed]",
      "text/plain": [
       "<Figure size 288x288 with 1 Axes>"
      ]
     },
     "metadata": {
      "needs_background": "light"
     },
     "output_type": "display_data"
    }
   ],
   "source": [
    "fig, ax = plt.subplots(figsize=(4, 4))\n",
    "ax.axis(\"equal\")\n",
    "\n",
    "R = 3\n",
    "vx = -1\n",
    "vz = 0.7\n",
    "\n",
    "def objective(x):\n",
    "    return (R + vx * time_at_dist(x))**2 + (vz * time_at_dist(x))**2 - x**2\n",
    "\n",
    "x_opt = fsolve(objective, x0 = R)\n",
    "x_opt = x_opt[0] #only one solution\n",
    "t = time_at_dist(x_opt)\n",
    "\n",
    "theta = -np.arccos(vz * t / x_opt)\n",
    "print(f\"x_opt: {x_opt}, theta: {np.degrees(theta)}, error: {objective(x_opt)}\")\n",
    "\n",
    "\n",
    "robot = np.array([0, 0])\n",
    "hub = np.array([0, R])\n",
    "target_pred = [x_opt*np.cos(-theta), x_opt*np.sin(-theta)]\n",
    "\n",
    "t_simple = time_at_dist(R)\n",
    "target_pred_simple = [vz*t_simple, R + vx*t_simple,]\n",
    "\n",
    "robot_to_target_pred = [robot, target_pred]\n",
    "robot_to_target_pred_simple = [robot, target_pred_simple]\n",
    "hub_dx = [hub, t * np.array([0, vx])]\n",
    "hub_dz = [hub, t * np.array([vz, 0])]\n",
    "hub_moved = [hub, t * np.array([vz, vx])]\n",
    "\n",
    "dots = np.array([target_pred, target_pred_simple, robot, hub])\n",
    "arrows = np.array([robot_to_target_pred, hub_dx, hub_dz, hub_moved])\n",
    "\n",
    "plt.quiver(arrows[:,0,0], arrows[:,0,1], arrows[:,1,0], arrows[:,1,1],\n",
    "        angles='xy', scale_units='xy', scale=1, width=0.005, headwidth=2)\n",
    "plt.scatter(dots[:, 0], dots[:, 1])\n",
    "plt.scatter(target_pred_simple[0], target_pred_simple[1])\n",
    "\n",
    "#orange dot is the target prediction using initial vision distance to get time\n"
   ]
  },
  {
   "cell_type": "code",
   "execution_count": null,
   "metadata": {},
   "outputs": [],
   "source": []
  }
 ],
 "metadata": {
  "interpreter": {
   "hash": "aee8b7b246df8f9039afb4144a1f6fd8d2ca17a180786b69acc140d282b71a49"
  },
  "kernelspec": {
   "display_name": "Python 3.9.5 64-bit",
   "language": "python",
   "name": "python3"
  },
  "language_info": {
   "name": "python",
   "version": "3.9.5"
  },
  "orig_nbformat": 4
 },
 "nbformat": 4,
 "nbformat_minor": 2
}
