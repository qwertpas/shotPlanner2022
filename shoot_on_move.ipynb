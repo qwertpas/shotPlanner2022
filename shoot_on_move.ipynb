{
 "cells": [
  {
   "cell_type": "code",
   "execution_count": 1,
   "metadata": {},
   "outputs": [],
   "source": [
    "import numpy as np\n",
    "from matplotlib import pyplot as plt\n",
    "from scipy.optimize import fsolve"
   ]
  },
  {
   "cell_type": "code",
   "execution_count": 29,
   "metadata": {},
   "outputs": [],
   "source": [
    "def time_at_dist(x):\n",
    "    return 0.8 * x"
   ]
  },
  {
   "cell_type": "code",
   "execution_count": 37,
   "metadata": {},
   "outputs": [
    {
     "data": {
      "text/plain": [
       "<matplotlib.collections.PathCollection at 0x13fc91040>"
      ]
     },
     "execution_count": 37,
     "metadata": {},
     "output_type": "execute_result"
    },
    {
     "data": {
      "image/png": "[encoded data removed]",
      "text/plain": [
       "<Figure size 288x288 with 1 Axes>"
      ]
     },
     "metadata": {
      "needs_background": "light"
     },
     "output_type": "display_data"
    }
   ],
   "source": [
    "R = 3\n",
    "vx = -1\n",
    "vz = 0.7\n",
    "\n",
    "robot = np.array([0, 0])\n",
    "hub = np.array([0, R])\n",
    "\n",
    "#[x0, y0, x1, y1]\n",
    "hub_vx = [hub, np.array([0, vx])]\n",
    "hub_vz = [hub, np.array([vz, 0])]\n",
    "hub_v = [hub, np.array([vz, vx])]\n",
    "\n",
    "\n",
    "\n",
    "\n",
    "dots = np.array([robot, hub])\n",
    "arrows = np.array([hub_vx, hub_vz, hub_v])\n",
    "\n",
    "fig, ax = plt.subplots(figsize=(4, 4))\n",
    "ax.axis(\"equal\")\n",
    "plt.quiver(arrows[:, 0, 0], arrows[:, 0, 1], arrows[:, 1, 0], arrows[:, 1, 1],\n",
    "        angles='xy', scale_units='xy', scale=1, width=0.005, headwidth=2)\n",
    "plt.scatter(dots[:, 0], dots[:, 1])\n"
   ]
  }
 ],
 "metadata": {
  "interpreter": {
   "hash": "aee8b7b246df8f9039afb4144a1f6fd8d2ca17a180786b69acc140d282b71a49"
  },
  "kernelspec": {
   "display_name": "Python 3.9.5 64-bit",
   "language": "python",
   "name": "python3"
  },
  "language_info": {
   "name": "python",
   "version": "3.9.5"
  },
  "orig_nbformat": 4
 },
 "nbformat": 4,
 "nbformat_minor": 2
}
